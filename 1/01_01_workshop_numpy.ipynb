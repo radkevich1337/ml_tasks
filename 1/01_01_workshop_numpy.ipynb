{
 "cells": [
  {
   "cell_type": "markdown",
   "metadata": {
    "colab_type": "text",
    "id": "xEDDrTjf3c0v"
   },
   "source": [
    "# 1.1 Numpy\n",
    "\n",
    "1. Скачайте этот ноутбук к себе.\n",
    "2. Заполните пропущенные ячейки, отвечая на заданные вопросы. Там должен быть код! (если не сказано обратное)\n",
    "3. Сохраните результат в своём гитхаб репозитории.\n",
    "\n",
    "#### Полезная литература\n",
    "\n",
    "- http://www.numpy.org/\n",
    "- https://jakevdp.github.io/PythonDataScienceHandbook/02.00-introduction-to-numpy.html\n",
    "- https://docs.scipy.org/doc/numpy/user/quickstart.html"
   ]
  },
  {
   "cell_type": "markdown",
   "metadata": {
    "colab_type": "text",
    "id": "Y8NTPSWYCkuL"
   },
   "source": [
    "## Часть 1 (19 баллов)"
   ]
  },
  {
   "cell_type": "markdown",
   "metadata": {
    "colab_type": "text",
    "id": "_8usUaZw3c0z"
   },
   "source": [
    "1) Импортировать numpy и написать версию (1 балл)"
   ]
  },
  {
   "cell_type": "code",
   "execution_count": 2,
   "metadata": {
    "colab": {},
    "colab_type": "code",
    "id": "DJoI3cBfSYIv"
   },
   "outputs": [],
   "source": [
    "import numpy"
   ]
  },
  {
   "cell_type": "code",
   "execution_count": 217,
   "metadata": {
    "colab": {},
    "colab_type": "code",
    "id": "3pKE62cJ3c02"
   },
   "outputs": [
    {
     "name": "stdout",
     "output_type": "stream",
     "text": [
      "1.17.2\n"
     ]
    }
   ],
   "source": [
    "print(numpy.__version__)"
   ]
  },
  {
   "cell_type": "markdown",
   "metadata": {
    "colab_type": "text",
    "id": "rZ9_tUuB3c0_"
   },
   "source": [
    "2) Создать нулевой вектор размера 10 (1 балл)"
   ]
  },
  {
   "cell_type": "code",
   "execution_count": 216,
   "metadata": {
    "colab": {},
    "colab_type": "code",
    "id": "sx92SQ9Q3c1C"
   },
   "outputs": [
    {
     "name": "stdout",
     "output_type": "stream",
     "text": [
      "[0 0 0 0 0 0 0 0 0 0]\n"
     ]
    }
   ],
   "source": [
    "print(numpy.zeros((10), dtype = numpy.int16))"
   ]
  },
  {
   "cell_type": "markdown",
   "metadata": {
    "colab_type": "text",
    "id": "cd_BgkDc3c1I"
   },
   "source": [
    "3) Создать вектор заполненный 7-ами размера 7 (2 балла)\n"
   ]
  },
  {
   "cell_type": "code",
   "execution_count": 215,
   "metadata": {
    "colab": {},
    "colab_type": "code",
    "id": "pFjymd7P3c1K"
   },
   "outputs": [
    {
     "name": "stdout",
     "output_type": "stream",
     "text": [
      "[7 7 7 7 7 7 7]\n"
     ]
    }
   ],
   "source": [
    "print(7 * numpy.ones((7), dtype = numpy.int16))"
   ]
  },
  {
   "cell_type": "markdown",
   "metadata": {
    "colab_type": "text",
    "id": "gBS80NH53c1P"
   },
   "source": [
    "4) Создать вектор заполненный четными числами от 10 до 100 включительно (2 балла)"
   ]
  },
  {
   "cell_type": "code",
   "execution_count": 214,
   "metadata": {
    "colab": {},
    "colab_type": "code",
    "id": "Zwynbeg_3c1Q"
   },
   "outputs": [
    {
     "name": "stdout",
     "output_type": "stream",
     "text": [
      "[ 10  12  14  16  18  20  22  24  26  28  30  32  34  36  38  40  42  44\n",
      "  46  48  50  52  54  56  58  60  62  64  66  68  70  72  74  76  78  80\n",
      "  82  84  86  88  90  92  94  96  98 100]\n"
     ]
    }
   ],
   "source": [
    "print(numpy.arange(10, 101, 2))"
   ]
  },
  {
   "cell_type": "markdown",
   "metadata": {
    "colab_type": "text",
    "id": "FhO90mV63c1X"
   },
   "source": [
    "5) Создать массив случайных чисел и развернуть его задом наперёд (4 балла)"
   ]
  },
  {
   "cell_type": "code",
   "execution_count": 191,
   "metadata": {
    "colab": {},
    "colab_type": "code",
    "id": "de4nD5Ye3c1Z"
   },
   "outputs": [
    {
     "name": "stdout",
     "output_type": "stream",
     "text": [
      "[6 3 8 8 0 6 4 2 7 4]\n",
      "[4 7 2 4 6 0 8 8 3 6]\n"
     ]
    }
   ],
   "source": [
    "a = numpy.random.randint(0, 10, 10)\n",
    "print(a)\n",
    "print(a[::-1])"
   ]
  },
  {
   "cell_type": "markdown",
   "metadata": {
    "colab_type": "text",
    "id": "CInYc9pC3c1e"
   },
   "source": [
    "6) Создать двумерную матрицу размера 3 на 3, заполненную числами от 0 до 9 (4 балла)"
   ]
  },
  {
   "cell_type": "code",
   "execution_count": 213,
   "metadata": {
    "colab": {},
    "colab_type": "code",
    "id": "TBbViWEr3c1f"
   },
   "outputs": [
    {
     "name": "stdout",
     "output_type": "stream",
     "text": [
      "[[0 1 2]\n",
      " [3 4 5]\n",
      " [6 7 8]]\n"
     ]
    }
   ],
   "source": [
    "print(numpy.arange(9).reshape(3, 3))"
   ]
  },
  {
   "cell_type": "markdown",
   "metadata": {
    "colab_type": "text",
    "id": "nSbf7GB-3c1k"
   },
   "source": [
    "7) Создать матрицу размера 4 на 4 с единицами на диагонали смещеной на один наверх. (5 баллов)"
   ]
  },
  {
   "cell_type": "code",
   "execution_count": 212,
   "metadata": {
    "colab": {},
    "colab_type": "code",
    "id": "wbC7lquy3c1m"
   },
   "outputs": [
    {
     "name": "stdout",
     "output_type": "stream",
     "text": [
      "[[0 1 0 0]\n",
      " [0 0 1 0]\n",
      " [0 0 0 1]\n",
      " [0 0 0 0]]\n"
     ]
    }
   ],
   "source": [
    "print(numpy.eye(4, k=1, dtype = numpy.int16))"
   ]
  },
  {
   "cell_type": "markdown",
   "metadata": {
    "colab_type": "text",
    "id": "eW7tC35y3c1q"
   },
   "source": [
    "## Часть 2 (26 баллов)"
   ]
  },
  {
   "cell_type": "markdown",
   "metadata": {
    "colab_type": "text",
    "id": "E2SzUleV3c1s"
   },
   "source": [
    "1) Создать матрицу с числами в диапазоне от 1 до 4 по диагонали. В других ячейках матрицы должны быть семерки. (2 балла)"
   ]
  },
  {
   "cell_type": "code",
   "execution_count": 194,
   "metadata": {
    "colab": {},
    "colab_type": "code",
    "id": "a-nFesOU3c1v"
   },
   "outputs": [
    {
     "name": "stdout",
     "output_type": "stream",
     "text": [
      "[[1 7 7 7]\n",
      " [7 2 7 7]\n",
      " [7 7 3 7]\n",
      " [7 7 7 4]]\n"
     ]
    }
   ],
   "source": [
    "a = 7 * numpy.ones((4,4), dtype = numpy.int16)\n",
    "numpy.fill_diagonal(a, numpy.arange(1, 5))\n",
    "print(a)"
   ]
  },
  {
   "cell_type": "markdown",
   "metadata": {
    "colab_type": "text",
    "id": "h2-CQcQQ3c10"
   },
   "source": [
    "2) Создать матрицу размера 5 на 5 заполненную чилами от 0 до 4 в строках. (2 балла)"
   ]
  },
  {
   "cell_type": "code",
   "execution_count": 211,
   "metadata": {
    "colab": {},
    "colab_type": "code",
    "id": "mqQT3x-a3c13"
   },
   "outputs": [
    {
     "name": "stdout",
     "output_type": "stream",
     "text": [
      "[[0 1 2 3 4]\n",
      " [0 1 2 3 4]\n",
      " [0 1 2 3 4]\n",
      " [0 1 2 3 4]\n",
      " [0 1 2 3 4]]\n"
     ]
    }
   ],
   "source": [
    "print(numpy.tile(numpy.arange(5), 5).reshape(5, 5))"
   ]
  },
  {
   "cell_type": "markdown",
   "metadata": {
    "colab_type": "text",
    "id": "NbqXnGtF3c17"
   },
   "source": [
    "3) Создать матрицу случайных чисел размера 10 на 10 и отнять среднее по строкам из каждого элемента строки (3 балла)"
   ]
  },
  {
   "cell_type": "code",
   "execution_count": 210,
   "metadata": {
    "colab": {},
    "colab_type": "code",
    "id": "rSVnkFco3c19"
   },
   "outputs": [
    {
     "name": "stdout",
     "output_type": "stream",
     "text": [
      "[[9 6 1 5 8 8 6 2 7 7]\n",
      " [5 4 3 1 0 8 7 4 8 3]\n",
      " [7 3 7 8 2 5 9 0 1 5]\n",
      " [2 7 3 3 7 8 9 7 9 3]\n",
      " [4 4 7 4 6 0 7 0 2 2]\n",
      " [0 8 0 1 8 5 0 3 9 2]\n",
      " [4 1 6 1 3 3 1 9 4 3]\n",
      " [2 0 4 8 3 1 1 6 9 4]\n",
      " [6 9 1 8 3 2 8 6 6 8]\n",
      " [8 1 7 5 4 1 5 0 2 5]] \n",
      "\n",
      "[[5.9]\n",
      " [4.3]\n",
      " [4.7]\n",
      " [5.8]\n",
      " [3.6]\n",
      " [3.6]\n",
      " [3.5]\n",
      " [3.8]\n",
      " [5.7]\n",
      " [3.8]] \n",
      "\n",
      "[[ 3.1  0.1 -4.9 -0.9  2.1  2.1  0.1 -3.9  1.1  1.1]\n",
      " [ 0.7 -0.3 -1.3 -3.3 -4.3  3.7  2.7 -0.3  3.7 -1.3]\n",
      " [ 2.3 -1.7  2.3  3.3 -2.7  0.3  4.3 -4.7 -3.7  0.3]\n",
      " [-3.8  1.2 -2.8 -2.8  1.2  2.2  3.2  1.2  3.2 -2.8]\n",
      " [ 0.4  0.4  3.4  0.4  2.4 -3.6  3.4 -3.6 -1.6 -1.6]\n",
      " [-3.6  4.4 -3.6 -2.6  4.4  1.4 -3.6 -0.6  5.4 -1.6]\n",
      " [ 0.5 -2.5  2.5 -2.5 -0.5 -0.5 -2.5  5.5  0.5 -0.5]\n",
      " [-1.8 -3.8  0.2  4.2 -0.8 -2.8 -2.8  2.2  5.2  0.2]\n",
      " [ 0.3  3.3 -4.7  2.3 -2.7 -3.7  2.3  0.3  0.3  2.3]\n",
      " [ 4.2 -2.8  3.2  1.2  0.2 -2.8  1.2 -3.8 -1.8  1.2]]\n"
     ]
    }
   ],
   "source": [
    "a = numpy.random.randint(0, 10, (10, 10))\n",
    "print(a, \"\\n\")\n",
    "b = (numpy.sum(a, axis = 1) / 10).reshape((10, 1))\n",
    "print(b, \"\\n\")\n",
    "print(a - b)"
   ]
  },
  {
   "cell_type": "markdown",
   "metadata": {
    "colab_type": "text",
    "id": "4o-V5Ekp3c2B"
   },
   "source": [
    "4) Создать матрицу случайных чисел размера 10 на 10 и отнять медиану по столбцам из каждого элемента столбца (4 балла)"
   ]
  },
  {
   "cell_type": "code",
   "execution_count": 206,
   "metadata": {
    "colab": {},
    "colab_type": "code",
    "id": "Ht70ullB3c2C"
   },
   "outputs": [
    {
     "name": "stdout",
     "output_type": "stream",
     "text": [
      "[[6 1 2 0 5 1 2 7 2 2]\n",
      " [5 2 4 2 0 4 5 7 4 1]\n",
      " [2 5 0 4 2 2 2 2 8 8]\n",
      " [7 2 6 7 3 7 5 0 5 0]\n",
      " [0 8 8 5 2 8 2 9 9 7]\n",
      " [7 4 3 8 2 2 1 1 5 0]\n",
      " [1 6 4 3 1 6 8 3 3 6]\n",
      " [0 3 8 8 4 8 2 3 0 2]\n",
      " [0 3 9 7 3 4 2 3 4 7]\n",
      " [9 6 0 9 4 9 8 8 7 2]] \n",
      "\n",
      "[3.5 3.5 4.  6.  2.5 5.  2.  3.  4.5 2. ] \n",
      "\n",
      "[[ 2.5 -2.5 -2.  -6.   2.5 -4.   0.   4.  -2.5  0. ]\n",
      " [ 1.5 -1.5  0.  -4.  -2.5 -1.   3.   4.  -0.5 -1. ]\n",
      " [-1.5  1.5 -4.  -2.  -0.5 -3.   0.  -1.   3.5  6. ]\n",
      " [ 3.5 -1.5  2.   1.   0.5  2.   3.  -3.   0.5 -2. ]\n",
      " [-3.5  4.5  4.  -1.  -0.5  3.   0.   6.   4.5  5. ]\n",
      " [ 3.5  0.5 -1.   2.  -0.5 -3.  -1.  -2.   0.5 -2. ]\n",
      " [-2.5  2.5  0.  -3.  -1.5  1.   6.   0.  -1.5  4. ]\n",
      " [-3.5 -0.5  4.   2.   1.5  3.   0.   0.  -4.5  0. ]\n",
      " [-3.5 -0.5  5.   1.   0.5 -1.   0.   0.  -0.5  5. ]\n",
      " [ 5.5  2.5 -4.   3.   1.5  4.   6.   5.   2.5  0. ]]\n"
     ]
    }
   ],
   "source": [
    "a = numpy.random.randint(0, 10, (10,10), dtype = numpy.int16)\n",
    "print(a, \"\\n\")\n",
    "b = numpy.median(a, axis = 0)\n",
    "print(b, \"\\n\")\n",
    "print(a - b)"
   ]
  },
  {
   "cell_type": "markdown",
   "metadata": {
    "colab_type": "text",
    "id": "DpCnBCgY3c2G"
   },
   "source": [
    "5) Создать матрицу случайных чисел 5x5. Добавить к ней столбцы максимумов и минимумов по строкам. Получится матрица 5x7. (4 балла) "
   ]
  },
  {
   "cell_type": "code",
   "execution_count": 198,
   "metadata": {
    "colab": {},
    "colab_type": "code",
    "id": "WW-qwkip3c2I"
   },
   "outputs": [
    {
     "name": "stdout",
     "output_type": "stream",
     "text": [
      "[[4 5 9 9 1 9 1]\n",
      " [5 2 9 9 8 9 2]\n",
      " [2 1 7 9 5 9 1]\n",
      " [3 4 4 6 5 6 3]\n",
      " [7 5 2 0 7 7 0]]\n"
     ]
    }
   ],
   "source": [
    "a = numpy.random.randint(0,10,(5,5), dtype = numpy.int16)\n",
    "a = numpy.hstack((a, numpy.max(a, axis = 1).reshape(5,1)))\n",
    "a = numpy.hstack((a, numpy.min(a, axis = 1).reshape(5,1)))\n",
    "print(a)\n"
   ]
  },
  {
   "cell_type": "markdown",
   "metadata": {
    "colab_type": "text",
    "id": "WDmNazJU3c2M"
   },
   "source": [
    "6) Вектор чисел от 1 до 50 преобразовать в вектор нечетных чисел и в вектор четных чисел, поменять их размерности, чтобы получились две матрицы. Найти произведение этих матриц. Найти обратную матрицу этого произведения.  (6 баллов)"
   ]
  },
  {
   "cell_type": "code",
   "execution_count": 6,
   "metadata": {
    "colab": {},
    "colab_type": "code",
    "id": "WSpTw7Hz3c2N"
   },
   "outputs": [
    {
     "name": "stdout",
     "output_type": "stream",
     "text": [
      "[ 1  2  3  4  5  6  7  8  9 10 11 12 13 14 15 16 17 18 19 20 21 22 23 24\n",
      " 25 26 27 28 29 30 31 32 33 34 35 36 37 38 39 40 41 42 43 44 45 46 47 48\n",
      " 49 50] \n",
      "\n",
      "[[ 2  4  6  8 10]\n",
      " [12 14 16 18 20]\n",
      " [22 24 26 28 30]\n",
      " [32 34 36 38 40]\n",
      " [42 44 46 48 50]] \n",
      "\n",
      "[[ 1  3  5  7  9]\n",
      " [11 13 15 17 19]\n",
      " [21 23 25 27 29]\n",
      " [31 33 35 37 39]\n",
      " [41 43 45 47 49]] \n",
      "\n",
      "[[ 830  890  950 1010 1070]\n",
      " [1880 2040 2200 2360 2520]\n",
      " [2930 3190 3450 3710 3970]\n",
      " [3980 4340 4700 5060 5420]\n",
      " [5030 5490 5950 6410 6870]] \n",
      "\n",
      "[[ 2.33534705e+14  7.54735942e+14 -1.12919844e+15 -9.39949760e+14\n",
      "   1.08087756e+15]\n",
      " [ 6.91792369e+12 -1.45842694e+13  4.39804651e+12  7.28502043e+12\n",
      "  -4.01672122e+12]\n",
      " [-4.73799516e+14 -1.49342919e+15  2.25179981e+15  1.87188600e+15\n",
      "  -2.15645711e+15]\n",
      " [-7.29355756e+12  1.16674155e+13  0.00000000e+00 -5.82801634e+12\n",
      "   1.45415837e+12]\n",
      " [ 2.40640445e+14  7.41610099e+14 -1.12699942e+15 -9.33393242e+14\n",
      "   1.07814212e+15]]\n"
     ]
    }
   ],
   "source": [
    "a = numpy.arange(1, 51)\n",
    "print(a, \"\\n\")\n",
    "b = numpy.matrix(a[numpy.arange(1, 50, 2)]).reshape((5,5))\n",
    "print(b, \"\\n\")\n",
    "c = numpy.matrix(a[numpy.arange(0, 50, 2)]).reshape((5,5))\n",
    "print(c, \"\\n\")\n",
    "mul = b * c\n",
    "print(mul, \"\\n\")\n",
    "inv = numpy.linalg.inv(mul)\n",
    "print(inv)"
   ]
  },
  {
   "cell_type": "markdown",
   "metadata": {
    "colab_type": "text",
    "id": "gLEf2sBp3c2S"
   },
   "source": [
    "7) Создать 8x8 матрицу и заполнить её в шахматном порядке нулями и единицами. (5 баллов)"
   ]
  },
  {
   "cell_type": "code",
   "execution_count": 200,
   "metadata": {
    "colab": {},
    "colab_type": "code",
    "id": "im-KzI8-3c2S"
   },
   "outputs": [
    {
     "name": "stdout",
     "output_type": "stream",
     "text": [
      "[[1 0 1 0 1 0 1 0]\n",
      " [0 1 0 1 0 1 0 1]\n",
      " [1 0 1 0 1 0 1 0]\n",
      " [0 1 0 1 0 1 0 1]\n",
      " [1 0 1 0 1 0 1 0]\n",
      " [0 1 0 1 0 1 0 1]\n",
      " [1 0 1 0 1 0 1 0]\n",
      " [0 1 0 1 0 1 0 1]]\n"
     ]
    }
   ],
   "source": [
    "a = numpy.array([0, 1])\n",
    "print(numpy.matrix(a[(1 + numpy.matrix([(-1)**(i + j) for i in range(8) for j in range(8)])//2).reshape(8,8)]))"
   ]
  },
  {
   "cell_type": "code",
   "execution_count": null,
   "metadata": {},
   "outputs": [],
   "source": []
  }
 ],
 "metadata": {
  "colab": {
   "collapsed_sections": [],
   "name": "01-01-workshop-numpy.ipynb",
   "provenance": []
  },
  "kernelspec": {
   "display_name": "Python 3",
   "language": "python",
   "name": "python3"
  },
  "language_info": {
   "codemirror_mode": {
    "name": "ipython",
    "version": 3
   },
   "file_extension": ".py",
   "mimetype": "text/x-python",
   "name": "python",
   "nbconvert_exporter": "python",
   "pygments_lexer": "ipython3",
   "version": "3.7.1"
  }
 },
 "nbformat": 4,
 "nbformat_minor": 1
}
