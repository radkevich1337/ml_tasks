{
 "cells": [
  {
   "cell_type": "markdown",
   "metadata": {
    "colab_type": "text",
    "id": "7A4juSnqHt7I"
   },
   "source": [
    "# 1.3 Python 3. Список.\n",
    "\n",
    "С базовыми фичами языка можно ознакомиться в материалах к данной теме.\n",
    "\n",
    "Предполагается, что вы смогли сделать задания из первой части домашней работы.\n",
    "\n",
    "\n",
    "**Не допускается использование сторонних бибилиотек типа numpy!**"
   ]
  },
  {
   "cell_type": "markdown",
   "metadata": {
    "colab_type": "text",
    "id": "x8t4kAiWHt7V"
   },
   "source": [
    "# Домашняя работа 1 (Хардкорная). Список.\n",
    "\n",
    "## Теория\n",
    "\n",
    "Мы пойдем весьма необычным путём. В этом задании вы будете реализовывать последовательность(связный список) с помощью рекурсии и базового элемента `tuple`. Это отличается от классического связного списка, основанного на структуре и указателе `next`, когда обход бы делался с помощью `for`, пока не встретился бы _null pointer_.\n",
    "\n",
    "Немного теории. Допустим у нас есть связная последовательность чисел ![](https://senior-sigan.ml/fcs-programming-technology/assets/linked_list.png)\n",
    "\n",
    "Её можно представить в виде последовательности вложенных друг в друга пар: `seq=(1, (2, (3, 4)))`. Тогда чтобы взять последний элемент списка нужно сделать `seq[1][1][1]`. Или если создать специальную вспомогательную функцию `tail`: `tail(tail(tail(seq)))`, что немного математичнее.\n",
    "\n",
    "> Использовать цикл `for`, `while` **запрещено**. Только рекурсия, только хардкор.\n",
    "\n",
    "Можно использовать классы и переопределять операторы, но не обязательно. Как делать классы можно прочитать [тут](https://learnxinyminutes.com/docs/ru-ru/python3-ru/) или в официальной [документации](https://docs.python.org/3/tutorial/classes.html).\n",
    "\n",
    "_Комментарий:_ ваш список должен уметь быть пустым, чтобы его длина была 0. Это потребуется в следующем задании.\n",
    "\n",
    "Далее список задач и примеры функций. Если вы делаете в ООП стиле, то придумайте методы самостоятельно, главное чтобы идея была такая же.\n",
    "\n",
    "### Рекурсивно связная последовательность. Easy.\n",
    "\n",
    "- взятие элемента по индексу `at(seq(1,2,3), 1) == 2`\n",
    "- вычисление длины последовательности `size(seq(1,2)) == 2`\n",
    "- сравнение массивов `eq(seq(1,2), seq(1,2)) == Treu`, `eq(seq(1,2,3), seq(1,2)) == False`\n",
    "\n",
    "### Функции над рекурсивно связаной последовательностью. Moderate.\n",
    "\n",
    "- взятие хвоста последовательности, пропустив N значений, `eq(tail(seq(1,2,3,4), 2), seq(3,4)) == True`\n",
    "- соединение двух списков `eq(concat(seq(1,2), seq(3,4)), seq(1,2,3,4)) == True`\n",
    "- функция `for_each` для обхода списка `for_each(seq(1,2,3,4), lambda x: print(x))`\n",
    "- функция `for_each_indexed` для обхода списка с индексом `for_each(seq(1,2,3,4), lambda i, x: print(i, x))`\n",
    "\n",
    "### Трансформаторы, фильтры, свёртки рекурсивных списков. Hard.\n",
    "\n",
    "- функция преобразования `map`: `map(seq(1,2,3,4), lambda x: x**2) == seq(1,4,9,16)`\n",
    "- функция фильтрации `filter`: `filter(seq(1,2,3,4),lambda x: x%2==1) == seq(1,3)`\n",
    "- функция редуцирования `reduce`: `reduce(s=seq(1,2,3,4), init_value=0, func=lambda acc, cur: acc+cur) == 0+1+2+3+4==10`\n",
    "- на основе функции редуцирования сделать функцию конвертации последовательности в python list `list(seq(1,2,3,4)) == [1,2,3,4]`\n",
    "\n",
    "### Дополнительное задание, если интересно:\n",
    "\n",
    "- на основе функции редуцирования сделать функцию flat_map, которая превращает последовательность последовательностей в последовательность. `flat_map(seq(1,2,3), lambda x: seq(x, x + 10)) == seq(1, 11, 2, 12, 3, 13)`"
   ]
  },
  {
   "cell_type": "code",
   "execution_count": 3,
   "metadata": {
    "colab": {},
    "colab_type": "code",
    "id": "cO2L9xglHt7W",
    "outputId": "13af86ca-540e-4e64-9fd3-43b96ab33980",
    "scrolled": true
   },
   "outputs": [],
   "source": [
    "# Воспользуйтесь этим начальным кодом, чтобы реализовать нужный процедуры\n",
    "\n",
    "def head(pair):\n",
    "    if pair is None:\n",
    "        return None\n",
    "    return pair[0]\n",
    "\n",
    "def tail(pair):\n",
    "    if pair is None:\n",
    "        return None\n",
    "    if len(pair) < 2:\n",
    "        return None\n",
    "    return pair[1]\n",
    "\n",
    "def Seq(*elements):\n",
    "    def first(x):\n",
    "        return x[0]\n",
    "    def other(x):\n",
    "        return x[1:]\n",
    "\n",
    "    if len(elements) == 0:\n",
    "        return None\n",
    "\n",
    "    if len(elements) == 1:\n",
    "        return first(elements), None\n",
    "\n",
    "    if len(elements) == 2:\n",
    "        return first(elements), other(elements)\n",
    "\n",
    "    return first(elements), Seq(*other(elements))"
   ]
  },
  {
   "cell_type": "markdown",
   "metadata": {},
   "source": [
    "Рекурсивно связная последовательность"
   ]
  },
  {
   "cell_type": "code",
   "execution_count": 61,
   "metadata": {
    "colab": {},
    "colab_type": "code",
    "id": "4R1o2_ExHt7d"
   },
   "outputs": [],
   "source": [
    "def at(pair, index):\n",
    "    if index == 0:\n",
    "        return head(pair)\n",
    "    else:\n",
    "        return at(tail(pair), index - 1)\n",
    "\n",
    "def size(pair):\n",
    "    sum = 1\n",
    "    if head(pair) is None:\n",
    "        return 0\n",
    "    elif tail(pair) is None:\n",
    "        return sum\n",
    "    else:\n",
    "        sum += size(tail(pair))\n",
    "        return sum\n",
    "        \n",
    "def eq(pair1, pair2):\n",
    "    if head(pair1) != head(pair2):\n",
    "        return False\n",
    "    elif head(pair1) is None:\n",
    "        return True\n",
    "    else:\n",
    "        return eq(tail(pair1), tail(pair2))"
   ]
  },
  {
   "cell_type": "code",
   "execution_count": 62,
   "metadata": {},
   "outputs": [
    {
     "name": "stdout",
     "output_type": "stream",
     "text": [
      "True\n",
      "True\n",
      "True\n"
     ]
    }
   ],
   "source": [
    "print(at(Seq(1,2,3,4,5), 3) == 4)\n",
    "print(size(Seq(1,2,3,4,5)) == 5)\n",
    "print(eq(Seq(1,2,3,4,5),Seq(1,2,3,4)) == False)"
   ]
  },
  {
   "cell_type": "markdown",
   "metadata": {},
   "source": [
    "Функции над рекурсивно связаной последовательностью"
   ]
  },
  {
   "cell_type": "code",
   "execution_count": 63,
   "metadata": {},
   "outputs": [],
   "source": [
    "def sl(pair, index):\n",
    "    if index == 0:\n",
    "        return pair\n",
    "    else:\n",
    "        return sl(tail(pair), index - 1)\n",
    "    \n",
    "def concat(pair1, pair2, index = 0):\n",
    "    i = size(pair1) - 1\n",
    "    if index - i == 1:\n",
    "        return pair2\n",
    "    else:\n",
    "        pair2 = (at(pair1, i - index), pair2)\n",
    "        return concat(pair1, pair2, index + 1)\n",
    "\n",
    "def for_each(pair, f):\n",
    "    if head(pair) is None:\n",
    "        return None\n",
    "    elif tail(pair) is None:\n",
    "        f(head(pair))\n",
    "        return None\n",
    "    else:\n",
    "        f(head(pair))\n",
    "        return for_each(tail(pair), f)\n",
    "    \n",
    "def for_each_indexed(pair, f, index = 0):\n",
    "    i = 1\n",
    "    if index == size(pair):\n",
    "        return 0\n",
    "    else:\n",
    "        i += for_each_indexed(pair, f, index + 1)\n",
    "        f(i, at(pair, i - 1))\n",
    "        return i"
   ]
  },
  {
   "cell_type": "code",
   "execution_count": 70,
   "metadata": {},
   "outputs": [
    {
     "name": "stdout",
     "output_type": "stream",
     "text": [
      "True\n",
      "True\n",
      "\n",
      "\n",
      "9\n",
      "2\n",
      "5\n",
      "1\n",
      "6\n",
      "3\n",
      "\n",
      "\n",
      "1 2\n",
      "2 4\n",
      "3 8\n",
      "4 16\n",
      "5 32\n",
      "6 64\n"
     ]
    }
   ],
   "source": [
    "print(eq(sl(Seq(1,2,3,4), 2), Seq(3,4)))\n",
    "print(eq(concat(Seq(1,2,4), Seq(1,3,9)), Seq(1,2,4,1,3,9)))\n",
    "print(\"\\n\")\n",
    "for_each(Seq(9,2,5,1,6,3), lambda x: print(x))\n",
    "print(\"\\n\")\n",
    "a = for_each_indexed(Seq(2,4,8,16,32,64), lambda i, x: print(i, x))"
   ]
  },
  {
   "cell_type": "markdown",
   "metadata": {},
   "source": [
    "Трансформаторы, фильтры, свёртки рекурсивных списков"
   ]
  },
  {
   "cell_type": "code",
   "execution_count": 74,
   "metadata": {},
   "outputs": [],
   "source": [
    "def map(pair, f, index = 0):\n",
    "    if size(pair) == index + 2:\n",
    "        return Seq(f(at(pair, index)), f(at(pair, index + 1)))\n",
    "    elif size(pair) == 1:\n",
    "        return Seq(f(head(pair)))\n",
    "    elif size(pair) == 0:\n",
    "        return Seq()\n",
    "    else:\n",
    "        return (f(at(pair, index)), map(pair, f, index + 1))\n",
    "    \n",
    "def filter(pair, f, index = 0):\n",
    "    if size(pair) == 0:\n",
    "        return Seq();\n",
    "    elif size(pair) == index + 1:\n",
    "        if f(at(pair, index)):\n",
    "            return Seq(at(pair, index))\n",
    "        else:\n",
    "            return None\n",
    "    else:\n",
    "        if f(at(pair, index)):\n",
    "            return (at(pair, index), filter(pair, f, index + 1))\n",
    "        else:\n",
    "            return filter(pair, f, index + 1)\n",
    "\n",
    "def reduce(pair, f, init_value = 0):\n",
    "    if size(pair) == 1:\n",
    "        if type(init_value) == type([]):       \n",
    "            f(head(pair), init_value)\n",
    "            return init_value\n",
    "        elif type(init_value) == type(Seq()):\n",
    "            return Seq(list(f(head(pair)))[0], list(f(head(pair)))[1])\n",
    "        else:\n",
    "            return f(head(pair), init_value)\n",
    "    elif size(pair) == 0:\n",
    "        return init_value;\n",
    "    else:\n",
    "        if type(init_value) == type([]):\n",
    "            f(head(pair), reduce(tail(pair), f, init_value))\n",
    "            return init_value\n",
    "        elif type(init_value) == type(Seq()):\n",
    "            return(list(f(head(pair)))[0], (list(f(head(pair)))[1], reduce(tail(pair), f, init_value)))\n",
    "        else:\n",
    "            return f(head(pair), reduce(tail(pair), f, init_value))\n",
    "\n",
    "def list(pair):\n",
    "    return reduce(pair, lambda x, y: y.insert(0, x), [])\n"
   ]
  },
  {
   "cell_type": "code",
   "execution_count": 78,
   "metadata": {},
   "outputs": [
    {
     "name": "stdout",
     "output_type": "stream",
     "text": [
      "True\n",
      "True\n",
      "True\n",
      "[12, 32, 14, 521, 67, 9]\n"
     ]
    }
   ],
   "source": [
    "print(eq(map(Seq(1,2,3,4), lambda x: x**2), Seq(1,4,9,16)))\n",
    "print(eq(filter(Seq(1,8,3,24,91,23,10,2), lambda x: x % 2 == 1), Seq(1,3,91,23)))\n",
    "print(reduce(Seq(0,1,2,3,4,5), lambda x, y: x + y) == 15)\n",
    "print(list(Seq(12,32,14,521,67,9)))"
   ]
  },
  {
   "cell_type": "markdown",
   "metadata": {},
   "source": [
    "Дополнительное задание"
   ]
  },
  {
   "cell_type": "code",
   "execution_count": 79,
   "metadata": {},
   "outputs": [],
   "source": [
    "def flat_map(pair, f):\n",
    "    return reduce(pair, f, Seq())"
   ]
  },
  {
   "cell_type": "code",
   "execution_count": 80,
   "metadata": {},
   "outputs": [
    {
     "name": "stdout",
     "output_type": "stream",
     "text": [
      "True\n"
     ]
    }
   ],
   "source": [
    "print(eq(flat_map(Seq(1,2,5,8), lambda x: Seq(x, x + 10)), Seq(1, 11, 2, 12, 5, 15, 8, 18)))"
   ]
  },
  {
   "cell_type": "code",
   "execution_count": null,
   "metadata": {},
   "outputs": [],
   "source": []
  }
 ],
 "metadata": {
  "colab": {
   "collapsed_sections": [],
   "name": "00-03_python.ipynb",
   "provenance": []
  },
  "kernelspec": {
   "display_name": "Python 3",
   "language": "python",
   "name": "python3"
  },
  "language_info": {
   "codemirror_mode": {
    "name": "ipython",
    "version": 3
   },
   "file_extension": ".py",
   "mimetype": "text/x-python",
   "name": "python",
   "nbconvert_exporter": "python",
   "pygments_lexer": "ipython3",
   "version": "3.7.1"
  }
 },
 "nbformat": 4,
 "nbformat_minor": 1
}
