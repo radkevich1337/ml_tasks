{
 "cells": [
  {
   "cell_type": "markdown",
   "metadata": {
    "colab_type": "text",
    "id": "7A4juSnqHt7I"
   },
   "source": [
    "# 1.2 Python 3. Матрица.\n",
    "\n",
    "С базовыми фичами языка можно ознакомиться в материалах к данной теме.\n",
    "\n",
    "Предполагается, что вы смогли сделать задания из первой части домашней работы.\n",
    "\n",
    "**Не допускается использование сторонних бибилиотек типа numpy!**"
   ]
  },
  {
   "cell_type": "markdown",
   "metadata": {
    "colab_type": "text",
    "id": "SdQh-wkKHt7M"
   },
   "source": [
    "# Домашняя работа 1 (Унылая). Матрицы\n",
    "\n",
    "Реализуйте класс матрица и набор важных функций:\n",
    "\n",
    "- сложение матриц\n",
    "- умножение матрицы на число\n",
    "- матричное произведение\n",
    "- поиск определителя\n",
    "- вычисление обратной матрицы\n",
    "- транспонирование матрицы"
   ]
  },
  {
   "cell_type": "code",
   "execution_count": 144,
   "metadata": {
    "colab": {},
    "colab_type": "code",
    "id": "zWKe00c0Ht7P"
   },
   "outputs": [],
   "source": [
    "# тут ваш код и примеры его работы\n",
    "import random\n",
    "class Matrix:\n",
    "    def __init__(self, n, m):\n",
    "        self.n = n\n",
    "        self.m = m\n",
    "        self.matrix = [[random.randrange(0, 10) for i in range(m)] for j in range(n)]\n",
    "        \n",
    "    def print_matrix(self):\n",
    "        for i in range(self.n):\n",
    "            print(self.matrix[i])\n",
    "        print(\"\\n\")\n",
    "            \n",
    "    def sum_matrix(self, matrix):\n",
    "        if self.n == matrix.n and self.m == matrix.m:\n",
    "            for i in range(self.n):\n",
    "                for j in range(self.m):\n",
    "                    self.matrix[i][j] += matrix.matrix[i][j]\n",
    "        else:\n",
    "            print(\"Error. Incorrect matrixes size(sum).\\n\")\n",
    "                \n",
    "    def mul_number_matrix(self, a):\n",
    "        for i in range(self.n):\n",
    "            for j in range(self.m):\n",
    "                self.matrix[i][j] *= a\n",
    "                \n",
    "    def mul_matrix(self, matrix):\n",
    "        if self.m == matrix.n:\n",
    "            matr = Matrix(self.n, matrix.m)\n",
    "            for i in range(self.n):\n",
    "                for j in range(matr.m):\n",
    "                    sum = 0\n",
    "                    for k in range(self.m):\n",
    "                        sum += self.matrix[i][k] * matrix.matrix[k][j]\n",
    "                    matr.matrix[i][j] = sum\n",
    "            self.matrix = matr.matrix\n",
    "            self.m = matr.m\n",
    "        else:\n",
    "            print(\"Error. Incorrect matrixes size(mul).\\n\")\n",
    "    \n",
    "    def det_matrix(self):\n",
    "        if self.n == self.m:\n",
    "            det = 0\n",
    "            for j in range(self.n):\n",
    "                if self.n > 1:\n",
    "                    sum = (-1)**(j) * self.matrix[0][j] * self.new_matrix(j).det_matrix()\n",
    "                elif self.n == 1:\n",
    "                    sum = self.matrix[0][0]\n",
    "                det += sum\n",
    "            return det\n",
    "        else:\n",
    "            print(\"Error. Incorrect matrixes size(det).\\n\")\n",
    "            return 0\n",
    "                \n",
    "    def new_matrix(self, index):\n",
    "        matr = Matrix(self.n - 1, self.m - 1)\n",
    "        for i in range(self.n - 1):\n",
    "            k = 0\n",
    "            for j in range(self.m - 1):\n",
    "                if j == index:\n",
    "                    k = 1\n",
    "                matr.matrix[i][j] = self.matrix[i + 1][j + k]\n",
    "        return matr\n",
    "    \n",
    "    def inv_matrix(self):\n",
    "        det = self.det_matrix()\n",
    "        if self.n != self.m:\n",
    "            print(\"Error. Incorrect matrixes size(inv).\\n\")\n",
    "        elif det == 0:\n",
    "            print(\"Error. Det is zero.\\n\")\n",
    "        else:\n",
    "            matr = Matrix(self.n, self.m)\n",
    "            for i in range(self.n):\n",
    "                for j in range(self.m):\n",
    "                    matr.matrix[i][j] = (-1)**(i+j) * self._new_matrix(i, j).det_matrix()\n",
    "            matr.tr_matrix()\n",
    "            matr.mul_number_matrix(1/self.det_matrix())\n",
    "            self.matrix = matr.matrix\n",
    "    \n",
    "    def _new_matrix(self, n_index, m_index):\n",
    "        matr = Matrix(self.n - 1, self.m - 1)\n",
    "        l = 0\n",
    "        for i in range(self.n - 1):\n",
    "            k = 0\n",
    "            if i == n_index:\n",
    "                l = 1\n",
    "            for j in range(self.m - 1):\n",
    "                if j == m_index:\n",
    "                    k = 1\n",
    "                matr.matrix[i][j] = self.matrix[i + l][j + k]\n",
    "\n",
    "        return matr\n",
    "    \n",
    "    def tr_matrix(self):\n",
    "        matr = Matrix(self.m, self.n)\n",
    "        for i in range(self.m):\n",
    "            for j in range(self.n):\n",
    "                matr.matrix[i][j] = self.matrix[j][i]\n",
    "        self.matrix = matr.matrix\n",
    "        self.n = matr.n\n",
    "        self.m = matr.m\n"
   ]
  },
  {
   "cell_type": "code",
   "execution_count": 145,
   "metadata": {},
   "outputs": [
    {
     "name": "stdout",
     "output_type": "stream",
     "text": [
      "[9, 5]\n",
      "[2, 9]\n",
      "[8, 4]\n",
      "\n",
      "\n",
      "[1, 1]\n",
      "[5, 6]\n",
      "[0, 4]\n",
      "\n",
      "\n",
      "[10, 6]\n",
      "[7, 15]\n",
      "[8, 8]\n",
      "\n",
      "\n"
     ]
    }
   ],
   "source": [
    "a = Matrix(3, 2)\n",
    "b = Matrix(3, 2)\n",
    "a.print_matrix()\n",
    "b.print_matrix()\n",
    "a.sum_matrix(b)\n",
    "a.print_matrix()\n"
   ]
  },
  {
   "cell_type": "code",
   "execution_count": 146,
   "metadata": {},
   "outputs": [
    {
     "name": "stdout",
     "output_type": "stream",
     "text": [
      "[0, 9]\n",
      "[1, 6]\n",
      "\n",
      "\n",
      "[0, 18]\n",
      "[2, 12]\n",
      "\n",
      "\n"
     ]
    }
   ],
   "source": [
    "a = Matrix(2, 2)\n",
    "a.print_matrix()\n",
    "a.mul_number_matrix(2)\n",
    "a.print_matrix()\n"
   ]
  },
  {
   "cell_type": "code",
   "execution_count": 147,
   "metadata": {},
   "outputs": [
    {
     "name": "stdout",
     "output_type": "stream",
     "text": [
      "[0, 4, 7]\n",
      "[9, 2, 2]\n",
      "\n",
      "\n",
      "[6]\n",
      "[6]\n",
      "[8]\n",
      "\n",
      "\n",
      "[80]\n",
      "[82]\n",
      "\n",
      "\n"
     ]
    }
   ],
   "source": [
    "a = Matrix(2, 3)\n",
    "b = Matrix(3, 1)\n",
    "a.print_matrix()\n",
    "b.print_matrix()\n",
    "a.mul_matrix(b)\n",
    "a.print_matrix()\n"
   ]
  },
  {
   "cell_type": "code",
   "execution_count": 151,
   "metadata": {},
   "outputs": [
    {
     "name": "stdout",
     "output_type": "stream",
     "text": [
      "[8, 2, 8]\n",
      "[8, 0, 1]\n",
      "[0, 0, 8]\n",
      "\n",
      "\n",
      "-128\n"
     ]
    }
   ],
   "source": [
    "a = Matrix(3, 3)\n",
    "a.print_matrix()\n",
    "print(a.det_matrix())\n"
   ]
  },
  {
   "cell_type": "code",
   "execution_count": 152,
   "metadata": {},
   "outputs": [
    {
     "name": "stdout",
     "output_type": "stream",
     "text": [
      "[9, 9, 0]\n",
      "[6, 1, 4]\n",
      "[2, 1, 8]\n",
      "\n",
      "\n",
      "[-0.012345679012345678, 0.2222222222222222, -0.1111111111111111]\n",
      "[0.12345679012345678, -0.2222222222222222, 0.1111111111111111]\n",
      "[-0.012345679012345678, -0.027777777777777776, 0.1388888888888889]\n",
      "\n",
      "\n"
     ]
    }
   ],
   "source": [
    "a = Matrix(3, 3)\n",
    "a.print_matrix()\n",
    "a.inv_matrix()\n",
    "a.print_matrix()\n"
   ]
  },
  {
   "cell_type": "code",
   "execution_count": 153,
   "metadata": {},
   "outputs": [
    {
     "name": "stdout",
     "output_type": "stream",
     "text": [
      "[6, 0]\n",
      "[3, 5]\n",
      "[4, 7]\n",
      "\n",
      "\n",
      "[6, 3, 4]\n",
      "[0, 5, 7]\n",
      "\n",
      "\n"
     ]
    }
   ],
   "source": [
    "a = Matrix(3, 2)\n",
    "a.print_matrix()\n",
    "a.tr_matrix()\n",
    "a.print_matrix()"
   ]
  },
  {
   "cell_type": "code",
   "execution_count": null,
   "metadata": {},
   "outputs": [],
   "source": []
  }
 ],
 "metadata": {
  "colab": {
   "collapsed_sections": [],
   "name": "00-02_python.ipynb",
   "provenance": []
  },
  "kernelspec": {
   "display_name": "Python 3",
   "language": "python",
   "name": "python3"
  },
  "language_info": {
   "codemirror_mode": {
    "name": "ipython",
    "version": 3
   },
   "file_extension": ".py",
   "mimetype": "text/x-python",
   "name": "python",
   "nbconvert_exporter": "python",
   "pygments_lexer": "ipython3",
   "version": "3.7.1"
  }
 },
 "nbformat": 4,
 "nbformat_minor": 1
}
