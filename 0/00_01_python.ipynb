{
 "cells": [
  {
   "cell_type": "markdown",
   "metadata": {
    "colab_type": "text",
    "id": "wdSaaNnwHt6d"
   },
   "source": [
    "# 1.1 Python 3. Базовые задания.\n",
    "\n",
    "С базовыми фичами языка можно ознакомиться в материалах к данной теме.\n",
    "\n",
    "Для закрепления знаний, решите следующие задачи."
   ]
  },
  {
   "cell_type": "markdown",
   "metadata": {
    "colab_type": "text",
    "id": "cBy-0uwsHt6i"
   },
   "source": [
    "# Задание 1. Word Count\n",
    "\n",
    "Посчитать сколько раз каждое слово повторялось в тексте. Вывести 10 самых частых слов отсортированных по частоте. Игнорировать однобуквенные слова и пунктуацию. Слова в предложении - это наборы символов отделенные друг от друга пробельными символами (пробел, табуляция, новая строка).\n",
    "\n",
    "**Hint**: вам понадобится `dict` и метод `get(key)`, который возвращает `None`, если значения отсутсвует.\n",
    "\n",
    "**Advanced**: Нарисуйте bar-plot график количества слов в предложении. (Используйте библиотеку seaborn)"
   ]
  },
  {
   "cell_type": "code",
   "execution_count": 18,
   "metadata": {
    "colab": {},
    "colab_type": "code",
    "id": "3V7vsF-jHt6l",
    "outputId": "2f8e5869-6696-49c1-e2de-d7578d19ed1d"
   },
   "outputs": [
    {
     "name": "stdout",
     "output_type": "stream",
     "text": [
      "aa\n",
      "cc\n",
      "bb\n",
      "AA\n"
     ]
    },
    {
     "data": {
      "image/png": "[encoded data removed]",
      "text/plain": [
       "<Figure size 432x288 with 1 Axes>"
      ]
     },
     "metadata": {
      "needs_background": "light"
     },
     "output_type": "display_data"
    }
   ],
   "source": [
    "import seaborn\n",
    "    \n",
    "def word_count(text):\n",
    "    text = text.replace(\".\", \" \").replace(\",\", \" \").replace(\";\", \" \").replace(\":\", \" \").replace(\"?\", \" \").replace(\"!\", \" \").replace(\"\\\"\", \" \").replace(\"\\'\", \" \").replace(\";\", \" \")\n",
    "    words = dict.fromkeys(text.split(), 0)\n",
    "    new_words = {}\n",
    "    for i in text.split():\n",
    "        words[i] += 1\n",
    "    for i in list(words.keys()):\n",
    "        if len(i) == 1:\n",
    "            words.pop(i)\n",
    "    for i in range(min(len(words.keys()), 10)):\n",
    "        word_num = -1\n",
    "        word = \" \"\n",
    "        for i in list(words.keys()):\n",
    "            if words[i] > word_num:\n",
    "                word_num = words[i]\n",
    "                word = i\n",
    "        print(word)\n",
    "        new_words.update({word: words.pop(word)})\n",
    "    seaborn.barplot(x = list(new_words.keys()), y = list(new_words.values()))\n",
    "word_count(\"aa aa aa bb cc cc A B C a AA\")"
   ]
  },
  {
   "cell_type": "code",
   "execution_count": 19,
   "metadata": {
    "colab": {},
    "colab_type": "code",
    "id": "WwBZGV7HHt6y",
    "outputId": "b0f25a37-2b0f-40a5-f297-c99697e40e18"
   },
   "outputs": [
    {
     "data": {
      "application/vnd.jupyter.widget-view+json": {
       "model_id": "1dde565481be42d69ba31338d65c7a1b",
       "version_major": 2,
       "version_minor": 0
      },
      "text/plain": [
       "Text(value='', placeholder='тут текст')"
      ]
     },
     "metadata": {},
     "output_type": "display_data"
    },
    {
     "name": "stdout",
     "output_type": "stream",
     "text": [
      "aa\n",
      "cc\n",
      "bb\n",
      "AA\n"
     ]
    },
    {
     "data": {
      "image/png": "[encoded data removed]",
      "text/plain": [
       "<Figure size 432x288 with 1 Axes>"
      ]
     },
     "metadata": {
      "needs_background": "light"
     },
     "output_type": "display_data"
    }
   ],
   "source": [
    "# Это магия для ввода текста, не трогайте её\n",
    "# Выполните эту ячейку и увидите поле для ввода текста. \n",
    "# Введите текст, нажмите Enter и получите ответ, который вы вычислили в функции выше\n",
    "from ipywidgets import widgets\n",
    "text = widgets.Text(placeholder=\"тут текст\")\n",
    "display(text)\n",
    "text.on_submit(lambda txt: word_count(txt.value))\n",
    "\n",
    "# введите число и нажмите enter"
   ]
  },
  {
   "cell_type": "markdown",
   "metadata": {
    "colab_type": "text",
    "id": "FN-vP5t1Ht64"
   },
   "source": [
    "# Задание 2. Сумма цифр числа\n",
    "\n",
    "Посчитать сумму цифр данного натурального числа. Например, `summa(1234) == 1+2+3+4 == 10`."
   ]
  },
  {
   "cell_type": "code",
   "execution_count": 3,
   "metadata": {
    "colab": {},
    "colab_type": "code",
    "id": "Vbxf-PfSHt67"
   },
   "outputs": [
    {
     "name": "stdout",
     "output_type": "stream",
     "text": [
      "11\n"
     ]
    }
   ],
   "source": [
    "def summa(n):\n",
    "    sum = 0\n",
    "    while n > 0:\n",
    "      sum += n % 10\n",
    "      n //= 10\n",
    "    print(sum)\n",
    "    pass\n",
    "summa(14321) "
   ]
  },
  {
   "cell_type": "markdown",
   "metadata": {
    "colab_type": "text",
    "id": "7CAtnv3uHt7B"
   },
   "source": [
    "> Человеку свойственна итерация, рекурсия – удел богов. \\(James O. Coplien, Bell Labs\\)"
   ]
  },
  {
   "cell_type": "code",
   "execution_count": 33,
   "metadata": {
    "colab": {},
    "colab_type": "code",
    "id": "WbwkkJ1vHt7C"
   },
   "outputs": [
    {
     "data": {
      "text/plain": [
       "13"
      ]
     },
     "execution_count": 33,
     "metadata": {},
     "output_type": "execute_result"
    }
   ],
   "source": [
    "def summa_recursive(n):\n",
    "    sum = 0\n",
    "    if n > 0:\n",
    "        sum = n % 10\n",
    "        n //= 10\n",
    "        sum += summa_recursive(n)\n",
    "    return sum\n",
    "    pass\n",
    "summa_recursive(41242)"
   ]
  },
  {
   "cell_type": "code",
   "execution_count": null,
   "metadata": {},
   "outputs": [],
   "source": []
  }
 ],
 "metadata": {
  "colab": {
   "collapsed_sections": [],
   "name": "00-01_python.ipynb",
   "provenance": []
  },
  "kernelspec": {
   "display_name": "Python 3",
   "language": "python",
   "name": "python3"
  },
  "language_info": {
   "codemirror_mode": {
    "name": "ipython",
    "version": 3
   },
   "file_extension": ".py",
   "mimetype": "text/x-python",
   "name": "python",
   "nbconvert_exporter": "python",
   "pygments_lexer": "ipython3",
   "version": "3.7.1"
  }
 },
 "nbformat": 4,
 "nbformat_minor": 1
}
